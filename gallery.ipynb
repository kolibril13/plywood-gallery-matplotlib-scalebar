{
 "cells": [
  {
   "cell_type": "code",
   "execution_count": null,
   "metadata": {},
   "outputs": [],
   "source": [
    "from plywood_gallery import ChapterConfig\n",
    "ChapterConfig.clean_all(skip_warning=True)\n",
    "ChapterConfig.generate_json()\n",
    "ChapterConfig.set_chapter_name(\"Scalebar Documentation\")"
   ]
  },
  {
   "cell_type": "code",
   "execution_count": null,
   "metadata": {},
   "outputs": [],
   "source": [
    "%%capture_png -p Foo.png --celltype Header --style \"width:120px\"\n",
    "import numpy as np\n",
    "import matplotlib.pyplot as plt\n",
    "from matplotlib_scalebar.scalebar import ScaleBar\n",
    "import matplotlib.image as mpimg\n",
    "%config InlineBackend.figure_format='retina'\n",
    "%config InlineBackend.print_figure_kwargs = {'pad_inches':0}\n",
    "\n",
    "def imshow_bar(im,scalebar):\n",
    "    fig, ax = plt.subplots(figsize=(2,2), dpi=60)\n",
    "    ax.axis(\"off\")\n",
    "    ax.imshow(im)\n",
    "    ax.add_artist(scalebar);\n",
    "\n",
    "img = mpimg.imread('green.png')\n",
    "\n",
    "import matplotlib.pyplot as plt  # NOT\n",
    "\n",
    "fix, ax = plt.subplots(figsize=(5, 5), facecolor=\"#F7F5F3\")  # NOT\n",
    "text_kwargs = dict(ha=\"center\", va=\"center\", fontsize=70, color=\"#ED6A5A\")  # NOT\n",
    "ax.text(0.5, 0.5, \"Header\", **text_kwargs)  # NOT\n",
    "ax.axis(\"off\");  # NOT"
   ]
  },
  {
   "cell_type": "code",
   "execution_count": null,
   "metadata": {},
   "outputs": [],
   "source": [
    "%%capture_png -p Bar.png --celltype Normal --style \"width:120px\"\n",
    "scalebar = ScaleBar(0.3, \"mm\", location=\"upper right\")\n",
    "imshow_bar(img,scalebar) "
   ]
  },
  {
   "cell_type": "code",
   "execution_count": null,
   "metadata": {},
   "outputs": [],
   "source": [
    "%%capture_png -p Bar.png --celltype Normal --style \"width:120px\"\n",
    "scalebar = ScaleBar(0.3, \"mm\", location=\"upper left\")\n",
    "imshow_bar(img,scalebar) "
   ]
  },
  {
   "cell_type": "code",
   "execution_count": null,
   "metadata": {},
   "outputs": [],
   "source": [
    "%%capture_png -p Bar.png --celltype Normal --style \"width:120px\"\n",
    "scalebar = ScaleBar(0.3, \"mm\", location=\"lower left\")\n",
    "imshow_bar(img,scalebar) "
   ]
  },
  {
   "cell_type": "code",
   "execution_count": null,
   "metadata": {},
   "outputs": [],
   "source": [
    "%%capture_png -p Bar.png --celltype Normal --style \"width:120px\"\n",
    "scalebar = ScaleBar(0.3, \"mm\", location=\"lower right\")\n",
    "imshow_bar(img,scalebar) "
   ]
  },
  {
   "cell_type": "code",
   "execution_count": null,
   "metadata": {},
   "outputs": [],
   "source": [
    "img = mpimg.imread('yellow.png')"
   ]
  },
  {
   "cell_type": "code",
   "execution_count": null,
   "metadata": {},
   "outputs": [],
   "source": [
    "%%capture_png -p Bar.png --celltype Normal --style \"width:120px\"\n",
    "scalebar = ScaleBar(0.3, \"mm\")\n",
    "imshow_bar(img,scalebar) "
   ]
  },
  {
   "cell_type": "code",
   "execution_count": null,
   "metadata": {},
   "outputs": [],
   "source": [
    "%%capture_png -p Bar.png --celltype Normal --style \"width:120px\"\n",
    "scalebar = ScaleBar(0.3, \"mm\",scale_loc= \"right\")\n",
    "imshow_bar(img,scalebar) \n"
   ]
  },
  {
   "cell_type": "code",
   "execution_count": null,
   "metadata": {},
   "outputs": [],
   "source": [
    "%%capture_png -p Bar.png --celltype Normal --style \"width:120px\"\n",
    "scalebar = ScaleBar(0.3, \"mm\",scale_loc= \"left\")\n",
    "imshow_bar(img,scalebar) \n"
   ]
  },
  {
   "cell_type": "code",
   "execution_count": null,
   "metadata": {},
   "outputs": [],
   "source": [
    "%%capture_png -p Bar.png --celltype Normal --style \"width:120px\"\n",
    "scalebar = ScaleBar(0.3, \"mm\",scale_loc= \"top\")\n",
    "imshow_bar(img,scalebar) \n"
   ]
  },
  {
   "cell_type": "code",
   "execution_count": null,
   "metadata": {},
   "outputs": [],
   "source": [
    "%%capture_png -p Bar.png --celltype Normal --style \"width:120px\"\n",
    "scalebar = ScaleBar(0.3, \"mm\", border_pad=1)\n",
    "imshow_bar(img,scalebar) "
   ]
  },
  {
   "cell_type": "code",
   "execution_count": null,
   "metadata": {},
   "outputs": [],
   "source": [
    "%%capture_png -p Bar.png --celltype Normal --style \"width:120px\"\n",
    "scalebar = ScaleBar(0.3, \"mm\", pad = 1)\n",
    "imshow_bar(img,scalebar) "
   ]
  },
  {
   "cell_type": "code",
   "execution_count": null,
   "metadata": {},
   "outputs": [],
   "source": [
    "%%capture_png -p Bar.png --celltype Normal --style \"width:120px\"\n",
    "scalebar = ScaleBar(0.3, \"mm\", sep=0)\n",
    "imshow_bar(img,scalebar) "
   ]
  },
  {
   "cell_type": "code",
   "execution_count": null,
   "metadata": {},
   "outputs": [],
   "source": [
    "%%capture_png -p Bar.png --celltype Normal --style \"width:120px\"\n",
    "scalebar = ScaleBar(0.3, \"mm\", sep=10)\n",
    "imshow_bar(img,scalebar) "
   ]
  },
  {
   "cell_type": "code",
   "execution_count": null,
   "metadata": {},
   "outputs": [],
   "source": [
    "%%capture_png -p Bar.png --celltype Normal --style \"width:120px\"\n",
    "scalebar = ScaleBar(1, \"px\", dimension=\"pixel-length\",length_fraction=0.3)\n",
    "imshow_bar(img,scalebar) "
   ]
  },
  {
   "cell_type": "code",
   "execution_count": null,
   "metadata": {},
   "outputs": [],
   "source": [
    "%%capture_png -p Bar.png --celltype Normal --style \"width:120px\"\n",
    "scalebar = ScaleBar(0.03/2.54, \"in\", dimension=\"imperial-length\", length_fraction=0.3)\n",
    "imshow_bar(img,scalebar) "
   ]
  },
  {
   "cell_type": "code",
   "execution_count": null,
   "metadata": {},
   "outputs": [],
   "source": [
    "%%capture_png -p Bar.png --celltype Normal --style \"width:120px\"\n",
    "scalebar = ScaleBar(0.3, \"mm\", length_fraction=1)\n",
    "imshow_bar(img,scalebar) "
   ]
  },
  {
   "cell_type": "code",
   "execution_count": null,
   "metadata": {},
   "outputs": [],
   "source": [
    "%%capture_png -p Bar.png --celltype Normal --style \"width:120px\"\n",
    "scalebar = ScaleBar(0.3, \"mm\", height_fraction=0.05)\n",
    "imshow_bar(img,scalebar) "
   ]
  },
  {
   "cell_type": "code",
   "execution_count": null,
   "metadata": {},
   "outputs": [],
   "source": [
    "%%capture_png -p Bar.png --celltype Normal --style \"width:120px\"\n",
    "scalebar = ScaleBar(0.3, \"mm\", rotation=\"vertical\")\n",
    "imshow_bar(img,scalebar) "
   ]
  },
  {
   "cell_type": "code",
   "execution_count": null,
   "metadata": {},
   "outputs": [],
   "source": [
    "%%capture_png -p Bar.png --celltype Normal --style \"width:120px\"\n",
    "scalebar = ScaleBar(0.3, \"mm\")\n",
    "imshow_bar(img,scalebar) "
   ]
  },
  {
   "cell_type": "code",
   "execution_count": null,
   "metadata": {},
   "outputs": [],
   "source": [
    "%%capture_png -p Bar.png --celltype Normal --style \"width:120px\"\n",
    "scalebar = ScaleBar(0.3, \"mm\", color=\"blue\")\n",
    "imshow_bar(img,scalebar) "
   ]
  },
  {
   "cell_type": "code",
   "execution_count": null,
   "metadata": {},
   "outputs": [],
   "source": [
    "%%capture_png -p Bar.png --celltype Normal --style \"width:120px\"\n",
    "scalebar = ScaleBar(0.3, \"mm\", box_color=\"skyblue\")\n",
    "imshow_bar(img,scalebar) "
   ]
  },
  {
   "cell_type": "code",
   "execution_count": null,
   "metadata": {},
   "outputs": [],
   "source": [
    "%%capture_png -p Bar.png --celltype Normal --style \"width:120px\"\n",
    "scalebar = ScaleBar(0.3, \"mm\", box_color=\"skyblue\", box_alpha=0.3)\n",
    "imshow_bar(img,scalebar) "
   ]
  },
  {
   "cell_type": "code",
   "execution_count": null,
   "metadata": {},
   "outputs": [],
   "source": [
    "%%capture_png -p Bar.png --celltype Normal --style \"width:120px\"\n",
    "scalebar = ScaleBar(0.3, \"mm\", frameon=False)\n",
    "imshow_bar(img,scalebar) "
   ]
  },
  {
   "cell_type": "code",
   "execution_count": null,
   "metadata": {},
   "outputs": [],
   "source": [
    "%%capture_png -p Bar.png --celltype Normal --style \"width:120px\"\n",
    "scalebar = ScaleBar(0.3, \"mm\", label=\"Lemon\")\n",
    "imshow_bar(img,scalebar) "
   ]
  },
  {
   "cell_type": "code",
   "execution_count": null,
   "metadata": {},
   "outputs": [],
   "source": [
    "%%capture_png -p Bar.png --celltype Normal --style \"width:120px\"\n",
    "scalebar = ScaleBar(0.3, \"mm\", label=\"Lemon\",font_properties= \"serif\")\n",
    "imshow_bar(img,scalebar) "
   ]
  },
  {
   "cell_type": "code",
   "execution_count": null,
   "metadata": {},
   "outputs": [],
   "source": [
    "%%capture_png -p Bar.png --celltype Normal --style \"width:120px\"\n",
    "scalebar = ScaleBar(0.3, \"mm\", label=\"Lemon\",font_properties= \"monospace\")\n",
    "imshow_bar(img,scalebar) "
   ]
  },
  {
   "cell_type": "code",
   "execution_count": null,
   "metadata": {},
   "outputs": [],
   "source": [
    "%%capture_png -p Bar.png --celltype Normal --style \"width:120px\"\n",
    "scalebar = ScaleBar(0.3, \"mm\", label=\"Lemon\", label_loc = \"bottom\")\n",
    "imshow_bar(img,scalebar) "
   ]
  },
  {
   "cell_type": "code",
   "execution_count": null,
   "metadata": {},
   "outputs": [],
   "source": [
    "%%capture_png -p Bar.png --celltype Normal --style \"width:120px\"\n",
    "scalebar = ScaleBar(0.3, \"mm\", label=\"Lemon\", label_loc = \"right\")\n",
    "imshow_bar(img,scalebar) \n"
   ]
  },
  {
   "cell_type": "code",
   "execution_count": null,
   "metadata": {},
   "outputs": [],
   "source": [
    "img = mpimg.imread('green.png')"
   ]
  },
  {
   "cell_type": "code",
   "execution_count": null,
   "metadata": {},
   "outputs": [],
   "source": [
    "%%capture_png -p Bar.png --celltype Normal --style \"width:120px\"\n",
    "scalebar = ScaleBar(0.3, \"mm\",scale_formatter = lambda value, unit: f\"{value/5} limo\")\n",
    "imshow_bar(img,scalebar) "
   ]
  },
  {
   "cell_type": "code",
   "execution_count": null,
   "metadata": {},
   "outputs": [],
   "source": [
    "imgx5 = mpimg.imread('zoom1.png')"
   ]
  },
  {
   "cell_type": "code",
   "execution_count": null,
   "metadata": {},
   "outputs": [],
   "source": [
    "%%capture_png -p Bar.png --celltype Normal --style \"width:120px\"\n",
    "scalebar = ScaleBar(0.3/5, \"mm\")\n",
    "imshow_bar(imgx5,scalebar) "
   ]
  },
  {
   "cell_type": "code",
   "execution_count": null,
   "metadata": {},
   "outputs": [],
   "source": [
    "imgx100 = mpimg.imread('zoom2.png')"
   ]
  },
  {
   "cell_type": "code",
   "execution_count": null,
   "metadata": {},
   "outputs": [],
   "source": [
    "%%capture_png -p Bar.png --celltype Normal --style \"width:120px\"\n",
    "scalebar = ScaleBar(0.3/100, \"mm\")\n",
    "imshow_bar(imgx100,scalebar) "
   ]
  },
  {
   "cell_type": "code",
   "execution_count": null,
   "metadata": {},
   "outputs": [],
   "source": [
    "imgx10000 = mpimg.imread('zoom3.png')"
   ]
  },
  {
   "cell_type": "code",
   "execution_count": null,
   "metadata": {},
   "outputs": [],
   "source": [
    "%%capture_png -p Bar.png --celltype Normal --style \"width:120px\"\n",
    "scalebar = ScaleBar(0.3/10000, \"mm\")\n",
    "imshow_bar(imgx10000,scalebar) "
   ]
  },
  {
   "cell_type": "code",
   "execution_count": null,
   "metadata": {},
   "outputs": [],
   "source": [
    "imgx10000000 = mpimg.imread('zoom4.png')"
   ]
  },
  {
   "cell_type": "code",
   "execution_count": null,
   "metadata": {},
   "outputs": [],
   "source": [
    "%%capture_png -p Bar.png --celltype Normal --style \"width:120px\"\n",
    "scalebar = ScaleBar(0.3/10000000, \"mm\")\n",
    "imshow_bar(imgx10000000,scalebar) "
   ]
  },
  {
   "cell_type": "code",
   "execution_count": null,
   "metadata": {},
   "outputs": [],
   "source": [
    "# %%capture_png -p Bar.png --celltype Normal --style \"width:120px\"\n",
    "# scalebar = ScaleBar(0.3/10000000, \"mm\", fixed_units=\"nm\", fixed_value = 1e-7)\n",
    "# imshow_bar(imgx10000000,scalebar) "
   ]
  },
  {
   "cell_type": "code",
   "execution_count": null,
   "metadata": {},
   "outputs": [],
   "source": [
    "%%capture_png -p Bar.png --celltype Normal --style \"width:120px\"\n",
    "scalebar = ScaleBar(0.3/10000000, \"mm\", fixed_units=\"cm\", fixed_value = 1e-7)\n",
    "imshow_bar(imgx10000000,scalebar) "
   ]
  },
  {
   "cell_type": "code",
   "execution_count": null,
   "metadata": {},
   "outputs": [],
   "source": [
    "%%capture_png -p Bar.png --celltype Normal --style \"width:120px\"\n",
    "scalebar = ScaleBar(0.3/10000000, \"mm\", fixed_units=\"mm\", fixed_value = 1e-6)\n",
    "imshow_bar(imgx10000000,scalebar) "
   ]
  },
  {
   "cell_type": "code",
   "execution_count": null,
   "metadata": {},
   "outputs": [],
   "source": [
    "%%capture_png -p Bar.png --celltype Normal --style \"width:120px\"\n",
    "scalebar = ScaleBar(0.3/10000000, \"mm\", fixed_units=\"um\", fixed_value = 1e-3)\n",
    "imshow_bar(imgx10000000,scalebar) "
   ]
  },
  {
   "cell_type": "code",
   "execution_count": null,
   "metadata": {},
   "outputs": [],
   "source": [
    "%%capture_png -p Bar.png --celltype Normal --style \"width:120px\"\n",
    "scalebar = ScaleBar(0.3/10000000, \"mm\", fixed_units=\"pm\", fixed_value = 1000)\n",
    "imshow_bar(imgx10000000,scalebar) "
   ]
  },
  {
   "cell_type": "code",
   "execution_count": null,
   "metadata": {},
   "outputs": [],
   "source": []
  }
 ],
 "metadata": {
  "kernelspec": {
   "display_name": "Python 3.9.11 ('napari-env')",
   "language": "python",
   "name": "python3"
  },
  "language_info": {
   "codemirror_mode": {
    "name": "ipython",
    "version": 3
   },
   "file_extension": ".py",
   "mimetype": "text/x-python",
   "name": "python",
   "nbconvert_exporter": "python",
   "pygments_lexer": "ipython3",
   "version": "3.9.11"
  },
  "vscode": {
   "interpreter": {
    "hash": "bb7a7b842930851728e0a2dafc827a6069e16b7869feb3e5989a9987e40ae401"
   }
  }
 },
 "nbformat": 4,
 "nbformat_minor": 4
}
